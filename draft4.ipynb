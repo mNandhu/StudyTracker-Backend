{
 "cells": [
  {
   "cell_type": "code",
   "id": "initial_id",
   "metadata": {
    "collapsed": true,
    "ExecuteTime": {
     "end_time": "2024-09-24T15:55:36.206723Z",
     "start_time": "2024-09-24T15:55:34.880536Z"
    }
   },
   "source": [
    "import os\n",
    "from typing import TypedDict, Annotated, List\n",
    "from dotenv import load_dotenv\n",
    "from langgraph.graph import StateGraph, END, MessagesState\n",
    "from langchain_core.messages import HumanMessage, AIMessage, SystemMessage\n",
    "from langchain_core.language_models import BaseChatModel\n",
    "from langchain_core.prompts import ChatPromptTemplate\n",
    "from langchain_core.runnables import RunnablePassthrough\n",
    "from langchain_groq import ChatGroq\n",
    "\n",
    "# Load environment variables\n",
    "load_dotenv()\n",
    "\n",
    "\n",
    "# Define the state\n",
    "class AssistantState(MessagesState):\n",
    "    task_decision: str\n",
    "    database_agent_response: str\n",
    "    invalid_decision_count: int\n",
    "\n",
    "\n",
    "def query_crewai_backend(query: str) -> str:\n",
    "    return f\"CrewAI Agent response: Based on the query '{query}', here's the information...\"\n",
    "\n",
    "\n",
    "def get_chat_model() -> BaseChatModel:\n",
    "    return ChatGroq(temperature=0)\n",
    "\n",
    "\n",
    "# Node functions\n",
    "def main_conversation(state: AssistantState) -> AssistantState:\n",
    "    chat = get_chat_model()\n",
    "    prompt = ChatPromptTemplate.from_messages([\n",
    "        (\"system\",\n",
    "         \"You are a helpful assistant for a student. Respond based on the conversation and any information from the CrewAI agents.\"),\n",
    "        (\"human\", \"{input}\"),\n",
    "        (\"ai\", \"CrewAI Agent info: {database_agent_response}\\nResponse:\"),\n",
    "    ])\n",
    "    chain = prompt | chat\n",
    "    response = chain.invoke({\n",
    "        \"input\": state[\"messages\"][-1].content,\n",
    "        \"database_agent_response\": state.get(\"database_agent_response\", \"No additional information available.\")\n",
    "    })\n",
    "    return {\"messages\": [AIMessage(content=response.content)]}\n",
    "\n",
    "\n",
    "def task_planning(state: AssistantState) -> AssistantState:\n",
    "    chat = get_chat_model()\n",
    "    prompt = ChatPromptTemplate.from_messages([\n",
    "        (\"system\",\n",
    "         \"Decide if we need to consult the CrewAI agents for more information or if we can respond directly. Output ONLY 'query' or 'respond'.\"),\n",
    "        (\"human\", \"{input}\"),\n",
    "        (\"system\", \"Invalid decisions so far: {invalid_count}\"),\n",
    "    ])\n",
    "    chain = prompt | chat\n",
    "    decision = chain.invoke({\n",
    "        \"input\": state[\"messages\"][-1].content,\n",
    "        \"invalid_count\": state.get(\"invalid_decision_count\", 0)\n",
    "    })\n",
    "    decision_content = decision.content.strip().lower()\n",
    "\n",
    "    if decision_content not in [\"query\", \"respond\"]:\n",
    "        return {\n",
    "            \"task_decision\": \"invalid\",\n",
    "            \"invalid_decision_count\": state.get(\"invalid_decision_count\", 0) + 1\n",
    "        }\n",
    "\n",
    "    return {\n",
    "        \"task_decision\": decision_content,\n",
    "        \"invalid_decision_count\": 0  # Reset the counter when a valid decision is made\n",
    "    }\n",
    "\n",
    "\n",
    "def crewai_agent_query(state: AssistantState) -> AssistantState:\n",
    "    chat = get_chat_model()\n",
    "    prompt = ChatPromptTemplate.from_messages([\n",
    "        (\"system\", \"Formulate a natural language query for the CrewAI agents based on the student's question.\"),\n",
    "        (\"human\", \"{input}\"),\n",
    "    ])\n",
    "    chain = prompt | chat\n",
    "    result = chain.invoke({\"input\": state[\"messages\"][-1].content})\n",
    "    return {\"database_agent_response\": result['agent_response']}\n",
    "\n",
    "\n",
    "# Create the graph\n",
    "workflow = StateGraph(AssistantState)\n",
    "\n",
    "# Add nodes\n",
    "workflow.add_node(\"main_conversation\", main_conversation)\n",
    "workflow.add_node(\"task_planning\", task_planning)\n",
    "workflow.add_node(\"crewai_agent_query\", crewai_agent_query)\n",
    "\n",
    "# Add edges\n",
    "workflow.set_entry_point(\"task_planning\")\n",
    "workflow.add_conditional_edges(\n",
    "    \"task_planning\",\n",
    "    lambda x: \"crewai_agent_query\" if x[\"task_decision\"] == \"query\" else (\n",
    "        \"main_conversation\" if x[\"task_decision\"] == \"respond\" else \"task_planning\"),\n",
    "    {\n",
    "        \"crewai_agent_query\": \"crewai_agent_query\",\n",
    "        \"main_conversation\": \"main_conversation\",\n",
    "        \"task_planning\": \"task_planning\"\n",
    "    }\n",
    ")\n",
    "workflow.add_edge(\"main_conversation\", END)\n",
    "\n",
    "# Compile the graph\n",
    "app = workflow.compile()    "
   ],
   "outputs": [],
   "execution_count": 1
  },
  {
   "metadata": {
    "ExecuteTime": {
     "end_time": "2024-09-24T15:55:36.971897Z",
     "start_time": "2024-09-24T15:55:36.219971Z"
    }
   },
   "cell_type": "code",
   "source": [
    "from IPython.display import Image, display\n",
    "from langchain_core.runnables.graph import CurveStyle, MermaidDrawMethod, NodeStyles\n",
    "\n",
    "display(\n",
    "    Image(\n",
    "        app.get_graph().draw_mermaid_png(\n",
    "            curve_style=CurveStyle.LINEAR,\n",
    "            node_colors=NodeStyles(first=\"#ffdfba\", last=\"#baffc9\", default=\"#fad7de\"),\n",
    "            wrap_label_n_words=9,\n",
    "            output_file_path=None,\n",
    "            draw_method=MermaidDrawMethod.API,\n",
    "            background_color=\"white\",\n",
    "            padding=10,\n",
    "        )\n",
    "    )\n",
    ")"
   ],
   "id": "4618a26cd8bec087",
   "outputs": [
    {
     "data": {
      "image/jpeg": "[encoded data removed]",
      "text/plain": [
       "<IPython.core.display.Image object>"
      ]
     },
     "metadata": {},
     "output_type": "display_data"
    }
   ],
   "execution_count": 2
  },
  {
   "metadata": {
    "ExecuteTime": {
     "end_time": "2024-09-24T15:55:37.666302Z",
     "start_time": "2024-09-24T15:55:37.662423Z"
    }
   },
   "cell_type": "code",
   "source": [
    "# messages = []\n",
    "# while True:\n",
    "#     messages.append(HumanMessage(content=input(\"You:\")))\n",
    "#     result = app.invoke({\"messages\": messages})\n",
    "#     print(\"\\n\\nFinal result:\")\n",
    "#     print(result['messages'][-1].content)"
   ],
   "id": "c86bbb51b7c86e33",
   "outputs": [],
   "execution_count": 3
  }
 ],
 "metadata": {
  "kernelspec": {
   "display_name": "Python 3",
   "language": "python",
   "name": "python3"
  },
  "language_info": {
   "codemirror_mode": {
    "name": "ipython",
    "version": 2
   },
   "file_extension": ".py",
   "mimetype": "text/x-python",
   "name": "python",
   "nbconvert_exporter": "python",
   "pygments_lexer": "ipython2",
   "version": "2.7.6"
  }
 },
 "nbformat": 4,
 "nbformat_minor": 5
}
