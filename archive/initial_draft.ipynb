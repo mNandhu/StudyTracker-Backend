{
 "cells": [
  {
   "cell_type": "code",
   "id": "9d949ee722a6ca78",
   "metadata": {
    "ExecuteTime": {
     "end_time": "2024-09-24T13:03:39.183020Z",
     "start_time": "2024-09-24T13:03:39.164811Z"
    }
   },
   "source": [
    "from typing import TypedDict, Annotated, List\n",
    "from langgraph.graph import StateGraph, END, MessagesState\n",
    "from langchain_core.messages import HumanMessage, AIMessage\n",
    "from langchain_core.language_models import BaseChatModel\n",
    "from langchain_core.prompts import ChatPromptTemplate\n",
    "from langchain_core.runnables import RunnablePassthrough, RunnableLambda\n",
    "\n",
    "# Import a chat model (replace with your preferred model)\n",
    "from langchain_groq import ChatGroq\n",
    "from dotenv import load_dotenv\n",
    "\n",
    "load_dotenv()"
   ],
   "outputs": [
    {
     "data": {
      "text/plain": [
       "True"
      ]
     },
     "execution_count": 78,
     "metadata": {},
     "output_type": "execute_result"
    }
   ],
   "execution_count": 78
  },
  {
   "metadata": {
    "ExecuteTime": {
     "end_time": "2024-09-24T13:03:39.234843Z",
     "start_time": "2024-09-24T13:03:39.215838Z"
    }
   },
   "cell_type": "code",
   "source": [
    "# Define the state\n",
    "class AssistantState(MessagesState):\n",
    "    task_decision: str\n",
    "    database_info: str\n",
    "\n",
    "\n",
    "def query_database(query: str) -> dict:\n",
    "    return {\"database_result\": \"The User's name is Chris.\"}\n",
    "\n",
    "\n",
    "def get_chat_model() -> BaseChatModel:\n",
    "    return ChatGroq(model=\"llama-3.1-70b-versatile\")\n",
    "\n",
    "\n",
    "# Node functions\n",
    "def main_conversation(state: AssistantState) -> AssistantState:\n",
    "    chat = get_chat_model()\n",
    "    prompt = ChatPromptTemplate.from_messages([\n",
    "        (\"system\",\n",
    "         \"You are a helpful assistant for a student. Respond based on the conversation and any database information.\"),\n",
    "        (\"human\", \"{input}\"),\n",
    "        (\"ai\", \"Database info: {database_info}\\nResponse:\"),\n",
    "    ])\n",
    "    chain = prompt | chat\n",
    "    response = chain.invoke({\"input\": state[\"messages\"][-1].content,\n",
    "                             \"database_info\": state.get(\"database_info\", \"No database info available.\")})\n",
    "    return {\"messages\": [AIMessage(content=response.content)]}\n",
    "\n",
    "\n",
    "def task_planning(state: AssistantState) -> AssistantState:\n",
    "    chat = get_chat_model()\n",
    "    prompt = ChatPromptTemplate.from_messages([\n",
    "        (\"system\",\n",
    "         \"You can ask queries to a Database Agent in Natural Language. Decide if you want ask queries to the DataBase Agent is needed or if we can respond directly. Output 'query' or 'respond'.\"),\n",
    "        (\"human\", \"{input}\"),\n",
    "    ])\n",
    "    chain = prompt | chat\n",
    "    decision = chain.invoke({\"input\": state[\"messages\"][-1].content})\n",
    "    print(f\"{decision.content.strip().lower()=}\")\n",
    "    return {\"task_decision\": decision.content.strip().lower()}\n",
    "\n",
    "\n",
    "def database_query(state: AssistantState) -> AssistantState:\n",
    "    chat = get_chat_model()\n",
    "    prompt = ChatPromptTemplate.from_messages([\n",
    "        (\"system\",\n",
    "         \"Formulate a query based on the question in NATURAL LANGUAGE. The query will be sent to the database agent.\"),\n",
    "        (\"human\", \"{input}\"),\n",
    "    ])\n",
    "\n",
    "    chain = (prompt | chat)\n",
    "    result = chain.invoke({\"input\": state[\"messages\"][-1].content})\n",
    "    print(f\"{result=}\")\n",
    "    return {\"database_info\": query_database(result)}"
   ],
   "id": "df5919addc8ec0af",
   "outputs": [],
   "execution_count": 79
  },
  {
   "metadata": {
    "ExecuteTime": {
     "end_time": "2024-09-24T13:03:39.267641Z",
     "start_time": "2024-09-24T13:03:39.255859Z"
    }
   },
   "cell_type": "code",
   "source": [
    "# Create the graph\n",
    "workflow = StateGraph(AssistantState)\n",
    "\n",
    "# Add nodes\n",
    "workflow.add_node(\"main_conversation\", main_conversation)\n",
    "workflow.add_node(\"task_planning\", task_planning)\n",
    "workflow.add_node(\"database_query\", database_query)\n",
    "\n",
    "# Add edges\n",
    "workflow.set_entry_point(\"task_planning\")\n",
    "workflow.add_conditional_edges(\n",
    "    \"task_planning\",\n",
    "    lambda x: \"database_query\" if x[\"task_decision\"] == \"query\" else \"main_conversation\",\n",
    "    {\n",
    "        \"database_query\": \"database_query\",\n",
    "        \"main_conversation\": \"main_conversation\",\n",
    "    }\n",
    ")\n",
    "workflow.add_edge(\"database_query\", \"main_conversation\")\n",
    "workflow.add_edge(\"main_conversation\", END)\n",
    "\n",
    "# Compile the graph\n",
    "app = workflow.compile()"
   ],
   "id": "4fd021a5d2659c6a",
   "outputs": [],
   "execution_count": 80
  },
  {
   "metadata": {
    "ExecuteTime": {
     "end_time": "2024-09-24T13:03:40.047642Z",
     "start_time": "2024-09-24T13:03:39.306595Z"
    }
   },
   "cell_type": "code",
   "source": [
    "from IPython.display import Image, display\n",
    "from langchain_core.runnables.graph import CurveStyle, MermaidDrawMethod, NodeStyles\n",
    "\n",
    "display(Image(app.get_graph().draw_mermaid_png(draw_method=MermaidDrawMethod.API)))"
   ],
   "id": "7f801457b8a5e47c",
   "outputs": [
    {
     "data": {
      "image/jpeg": "[encoded data removed]",
      "text/plain": [
       "<IPython.core.display.Image object>"
      ]
     },
     "metadata": {},
     "output_type": "display_data"
    }
   ],
   "execution_count": 81
  },
  {
   "metadata": {
    "collapsed": true,
    "ExecuteTime": {
     "end_time": "2024-09-24T13:03:44.179982Z",
     "start_time": "2024-09-24T13:03:40.084590Z"
    }
   },
   "cell_type": "code",
   "source": [
    "\n",
    "# Example usage\n",
    "messages = [HumanMessage(content=\"What is my Name? Get information from the database.\")]\n",
    "result = app.invoke({\"messages\": messages})\n",
    "print(\"\\n\\nFinal result:\")\n",
    "print(result['messages'][-1].content)"
   ],
   "id": "initial_id",
   "outputs": [
    {
     "name": "stdout",
     "output_type": "stream",
     "text": [
      "decision.content.strip().lower()='query'\n",
      "content=\"Here's a possible query based on the question:\\n\\n`SELECT name FROM users WHERE user_id = [current_user_id]`\\n\\nThis query assumes that there is a table called 'users' in the database with a column called 'name', and that the current user's ID is stored in the variable 'current_user_id'. The database agent can then execute this query to retrieve the user's name from the database.\" response_metadata={'token_usage': {'completion_tokens': 83, 'prompt_tokens': 69, 'total_tokens': 152, 'completion_time': 0.332, 'prompt_time': 0.027866453, 'queue_time': 0.090586046, 'total_time': 0.359866453}, 'model_name': 'llama-3.1-70b-versatile', 'system_fingerprint': 'fp_b6828be2c9', 'finish_reason': 'stop', 'logprobs': None} id='run-d93e1cd9-99e5-41e1-9548-32458a86444f-0' usage_metadata={'input_tokens': 69, 'output_tokens': 83, 'total_tokens': 152}\n",
      "\n",
      "\n",
      "Final result:\n",
      " Your name is Chris.\n"
     ]
    }
   ],
   "execution_count": 82
  }
 ],
 "metadata": {
  "kernelspec": {
   "display_name": "Python 3",
   "language": "python",
   "name": "python3"
  },
  "language_info": {
   "codemirror_mode": {
    "name": "ipython",
    "version": 2
   },
   "file_extension": ".py",
   "mimetype": "text/x-python",
   "name": "python",
   "nbconvert_exporter": "python",
   "pygments_lexer": "ipython2",
   "version": "2.7.6"
  }
 },
 "nbformat": 4,
 "nbformat_minor": 5
}
