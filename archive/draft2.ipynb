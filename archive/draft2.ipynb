{
 "cells": [
  {
   "cell_type": "code",
   "id": "d36642646d544ffe",
   "metadata": {
    "ExecuteTime": {
     "end_time": "2024-09-24T13:31:32.569666Z",
     "start_time": "2024-09-24T13:31:32.554661Z"
    }
   },
   "source": [
    "from typing import TypedDict, Annotated, List\n",
    "from langgraph.graph import StateGraph, END, MessagesState\n",
    "from langchain_core.messages import HumanMessage, AIMessage, SystemMessage\n",
    "from langchain_core.language_models import BaseChatModel\n",
    "from langchain_core.prompts import ChatPromptTemplate\n",
    "from langchain_core.runnables import RunnablePassthrough\n",
    "\n",
    "from langchain_groq import ChatGroq\n",
    "from dotenv import load_dotenv\n",
    "\n",
    "load_dotenv()\n",
    "\n",
    "\n",
    "# Define the state\n",
    "class AssistantState(MessagesState):\n",
    "    task_decision: str\n",
    "    database_agent_response: str\n",
    "\n",
    "\n",
    "# Mock function for CrewAI backend (replace with actual implementation)\n",
    "def query_crewai_backend(query: str) -> str:\n",
    "    # Simulate CrewAI backend response\n",
    "    return input(\"Enter CrewAI agent response: \")\n",
    "\n",
    "\n",
    "def get_chat_model() -> BaseChatModel:\n",
    "    return ChatGroq(model=\"llama-3.1-70b-versatile\")\n",
    "\n",
    "\n",
    "# Node functions\n",
    "def main_conversation(state: AssistantState) -> AssistantState:\n",
    "    chat = get_chat_model()\n",
    "    prompt = ChatPromptTemplate.from_messages([\n",
    "        (\"system\",\n",
    "         \"You are a helpful assistant for a student. Respond based on the conversation and any information from the agents.\"),\n",
    "        (\"human\", \"{input}\"),\n",
    "        (\"ai\", \"CrewAI Agent info: {database_agent_response}\\nResponse:\"),\n",
    "    ])\n",
    "    chain = prompt | chat\n",
    "    response = chain.invoke({\n",
    "        \"input\": state[\"messages\"][-1].content,\n",
    "        \"database_agent_response\": state.get(\"database_agent_response\", \"No additional information available.\")\n",
    "    })\n",
    "    return {\"messages\": [AIMessage(content=response.content)]}\n",
    "\n",
    "\n",
    "def task_planning(state: AssistantState) -> AssistantState:\n",
    "    chat = get_chat_model()\n",
    "    prompt = ChatPromptTemplate.from_messages([\n",
    "        (\"system\",\n",
    "         \"Decide if we need to consult the CrewAI agents for more information or if we can respond directly. Output 'query' or 'respond'. If you don't know the answer for ANY QUESTION, output 'query'.\"),\n",
    "        (\"human\", \"{input}\"),\n",
    "    ])\n",
    "    chain = prompt | chat\n",
    "    decision = chain.invoke({\"input\": state[\"messages\"][-1].content})\n",
    "    print(f\"{decision.content.strip().lower()=}\")\n",
    "    return {\"task_decision\": decision.content.strip().lower()}\n",
    "\n",
    "\n",
    "def crewai_agent_query(state: AssistantState) -> AssistantState:\n",
    "    chat = get_chat_model()\n",
    "    prompt = ChatPromptTemplate.from_messages([\n",
    "        (\"system\", \"Formulate a natural language query for the CrewAI agents based on the student's question.\"),\n",
    "        (\"human\", \"{input}\"),\n",
    "    ])\n",
    "    chain = prompt | chat\n",
    "    result = chain.invoke({\"input\": state[\"messages\"][-1].content})\n",
    "    print(f'{result.content=}')\n",
    "    return {\"database_agent_response\": query_crewai_backend(result.content)}"
   ],
   "outputs": [],
   "execution_count": 24
  },
  {
   "metadata": {
    "collapsed": true,
    "ExecuteTime": {
     "end_time": "2024-09-24T13:31:32.585342Z",
     "start_time": "2024-09-24T13:31:32.574710Z"
    }
   },
   "cell_type": "code",
   "source": [
    "# Create the graph\n",
    "workflow = StateGraph(AssistantState)\n",
    "\n",
    "# Add nodes\n",
    "workflow.add_node(\"main_conversation\", main_conversation)\n",
    "workflow.add_node(\"task_planning\", task_planning)\n",
    "workflow.add_node(\"crewai_agent_query\", crewai_agent_query)\n",
    "\n",
    "# Add edges\n",
    "workflow.set_entry_point(\"task_planning\")\n",
    "workflow.add_conditional_edges(\n",
    "    \"task_planning\",\n",
    "    lambda x: \"crewai_agent_query\" if x[\"task_decision\"] == \"query\" else (\n",
    "        \"main_conversation\" if x[\"task_decision\"] == \"respond\" else \"task_planning\"),\n",
    "    {\n",
    "        \"crewai_agent_query\": \"crewai_agent_query\",\n",
    "        \"main_conversation\": \"main_conversation\",\n",
    "        \"task_planning\": \"task_planning\"\n",
    "    }\n",
    ")\n",
    "workflow.add_edge(\"crewai_agent_query\", \"main_conversation\")\n",
    "workflow.add_edge(\"main_conversation\", END)\n",
    "\n",
    "# Compile the graph\n",
    "app = workflow.compile()"
   ],
   "id": "initial_id",
   "outputs": [],
   "execution_count": 25
  },
  {
   "metadata": {
    "ExecuteTime": {
     "end_time": "2024-09-24T13:31:33.579221Z",
     "start_time": "2024-09-24T13:31:32.593992Z"
    }
   },
   "cell_type": "code",
   "source": [
    "from IPython.display import Image, display\n",
    "from langchain_core.runnables.graph import CurveStyle, MermaidDrawMethod, NodeStyles\n",
    "\n",
    "display(Image(app.get_graph().draw_mermaid_png(draw_method=MermaidDrawMethod.API)))"
   ],
   "id": "38ac6b3b7353a1fd",
   "outputs": [
    {
     "data": {
      "image/jpeg": "[encoded data removed]",
      "text/plain": [
       "<IPython.core.display.Image object>"
      ]
     },
     "metadata": {},
     "output_type": "display_data"
    }
   ],
   "execution_count": 26
  },
  {
   "metadata": {
    "ExecuteTime": {
     "end_time": "2024-09-24T13:31:34.780040Z",
     "start_time": "2024-09-24T13:31:33.587034Z"
    }
   },
   "cell_type": "code",
   "source": [
    "messages = []\n",
    "while True:\n",
    "    messages.append(HumanMessage(content=input(\"You:\")))\n",
    "    result = app.invoke({\"messages\": messages})\n",
    "    print(\"\\n\\nFinal result:\")\n",
    "    print(result['messages'][-1].content)"
   ],
   "id": "498a298ac4ba4ca6",
   "outputs": [
    {
     "ename": "KeyboardInterrupt",
     "evalue": "Interrupted by user",
     "output_type": "error",
     "traceback": [
      "\u001B[1;31m---------------------------------------------------------------------------\u001B[0m",
      "\u001B[1;31mKeyboardInterrupt\u001B[0m                         Traceback (most recent call last)",
      "Cell \u001B[1;32mIn[27], line 3\u001B[0m\n\u001B[0;32m      1\u001B[0m messages \u001B[38;5;241m=\u001B[39m []\n\u001B[0;32m      2\u001B[0m \u001B[38;5;28;01mwhile\u001B[39;00m \u001B[38;5;28;01mTrue\u001B[39;00m:\n\u001B[1;32m----> 3\u001B[0m     messages\u001B[38;5;241m.\u001B[39mappend(HumanMessage(content\u001B[38;5;241m=\u001B[39m\u001B[38;5;28;43minput\u001B[39;49m\u001B[43m(\u001B[49m\u001B[38;5;124;43m\"\u001B[39;49m\u001B[38;5;124;43mYou:\u001B[39;49m\u001B[38;5;124;43m\"\u001B[39;49m\u001B[43m)\u001B[49m))\n\u001B[0;32m      4\u001B[0m     result \u001B[38;5;241m=\u001B[39m app\u001B[38;5;241m.\u001B[39minvoke({\u001B[38;5;124m\"\u001B[39m\u001B[38;5;124mmessages\u001B[39m\u001B[38;5;124m\"\u001B[39m: messages})\n\u001B[0;32m      5\u001B[0m     \u001B[38;5;28mprint\u001B[39m(\u001B[38;5;124m\"\u001B[39m\u001B[38;5;130;01m\\n\u001B[39;00m\u001B[38;5;130;01m\\n\u001B[39;00m\u001B[38;5;124mFinal result:\u001B[39m\u001B[38;5;124m\"\u001B[39m)\n",
      "File \u001B[1;32mG:\\Projects\\LangGraph_CrewAI\\.venv\\Lib\\site-packages\\ipykernel\\kernelbase.py:1282\u001B[0m, in \u001B[0;36mKernel.raw_input\u001B[1;34m(self, prompt)\u001B[0m\n\u001B[0;32m   1280\u001B[0m     msg \u001B[38;5;241m=\u001B[39m \u001B[38;5;124m\"\u001B[39m\u001B[38;5;124mraw_input was called, but this frontend does not support input requests.\u001B[39m\u001B[38;5;124m\"\u001B[39m\n\u001B[0;32m   1281\u001B[0m     \u001B[38;5;28;01mraise\u001B[39;00m StdinNotImplementedError(msg)\n\u001B[1;32m-> 1282\u001B[0m \u001B[38;5;28;01mreturn\u001B[39;00m \u001B[38;5;28;43mself\u001B[39;49m\u001B[38;5;241;43m.\u001B[39;49m\u001B[43m_input_request\u001B[49m\u001B[43m(\u001B[49m\n\u001B[0;32m   1283\u001B[0m \u001B[43m    \u001B[49m\u001B[38;5;28;43mstr\u001B[39;49m\u001B[43m(\u001B[49m\u001B[43mprompt\u001B[49m\u001B[43m)\u001B[49m\u001B[43m,\u001B[49m\n\u001B[0;32m   1284\u001B[0m \u001B[43m    \u001B[49m\u001B[38;5;28;43mself\u001B[39;49m\u001B[38;5;241;43m.\u001B[39;49m\u001B[43m_parent_ident\u001B[49m\u001B[43m[\u001B[49m\u001B[38;5;124;43m\"\u001B[39;49m\u001B[38;5;124;43mshell\u001B[39;49m\u001B[38;5;124;43m\"\u001B[39;49m\u001B[43m]\u001B[49m\u001B[43m,\u001B[49m\n\u001B[0;32m   1285\u001B[0m \u001B[43m    \u001B[49m\u001B[38;5;28;43mself\u001B[39;49m\u001B[38;5;241;43m.\u001B[39;49m\u001B[43mget_parent\u001B[49m\u001B[43m(\u001B[49m\u001B[38;5;124;43m\"\u001B[39;49m\u001B[38;5;124;43mshell\u001B[39;49m\u001B[38;5;124;43m\"\u001B[39;49m\u001B[43m)\u001B[49m\u001B[43m,\u001B[49m\n\u001B[0;32m   1286\u001B[0m \u001B[43m    \u001B[49m\u001B[43mpassword\u001B[49m\u001B[38;5;241;43m=\u001B[39;49m\u001B[38;5;28;43;01mFalse\u001B[39;49;00m\u001B[43m,\u001B[49m\n\u001B[0;32m   1287\u001B[0m \u001B[43m\u001B[49m\u001B[43m)\u001B[49m\n",
      "File \u001B[1;32mG:\\Projects\\LangGraph_CrewAI\\.venv\\Lib\\site-packages\\ipykernel\\kernelbase.py:1325\u001B[0m, in \u001B[0;36mKernel._input_request\u001B[1;34m(self, prompt, ident, parent, password)\u001B[0m\n\u001B[0;32m   1322\u001B[0m \u001B[38;5;28;01mexcept\u001B[39;00m \u001B[38;5;167;01mKeyboardInterrupt\u001B[39;00m:\n\u001B[0;32m   1323\u001B[0m     \u001B[38;5;66;03m# re-raise KeyboardInterrupt, to truncate traceback\u001B[39;00m\n\u001B[0;32m   1324\u001B[0m     msg \u001B[38;5;241m=\u001B[39m \u001B[38;5;124m\"\u001B[39m\u001B[38;5;124mInterrupted by user\u001B[39m\u001B[38;5;124m\"\u001B[39m\n\u001B[1;32m-> 1325\u001B[0m     \u001B[38;5;28;01mraise\u001B[39;00m \u001B[38;5;167;01mKeyboardInterrupt\u001B[39;00m(msg) \u001B[38;5;28;01mfrom\u001B[39;00m \u001B[38;5;28;01mNone\u001B[39;00m\n\u001B[0;32m   1326\u001B[0m \u001B[38;5;28;01mexcept\u001B[39;00m \u001B[38;5;167;01mException\u001B[39;00m:\n\u001B[0;32m   1327\u001B[0m     \u001B[38;5;28mself\u001B[39m\u001B[38;5;241m.\u001B[39mlog\u001B[38;5;241m.\u001B[39mwarning(\u001B[38;5;124m\"\u001B[39m\u001B[38;5;124mInvalid Message:\u001B[39m\u001B[38;5;124m\"\u001B[39m, exc_info\u001B[38;5;241m=\u001B[39m\u001B[38;5;28;01mTrue\u001B[39;00m)\n",
      "\u001B[1;31mKeyboardInterrupt\u001B[0m: Interrupted by user"
     ]
    }
   ],
   "execution_count": 27
  }
 ],
 "metadata": {
  "kernelspec": {
   "display_name": "Python 3",
   "language": "python",
   "name": "python3"
  },
  "language_info": {
   "codemirror_mode": {
    "name": "ipython",
    "version": 2
   },
   "file_extension": ".py",
   "mimetype": "text/x-python",
   "name": "python",
   "nbconvert_exporter": "python",
   "pygments_lexer": "ipython2",
   "version": "2.7.6"
  }
 },
 "nbformat": 4,
 "nbformat_minor": 5
}
